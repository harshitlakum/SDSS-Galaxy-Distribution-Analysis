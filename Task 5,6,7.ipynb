{
 "cells": [
  {
   "cell_type": "code",
   "execution_count": 1,
   "id": "6702c429-3166-4fa4-bfde-eacea559d1e5",
   "metadata": {},
   "outputs": [],
   "source": [
    "import numpy as np\n",
    "from numba import jit\n",
    "import matplotlib.pyplot as plt\n",
    "data = np.loadtxt('/Users/harshitlakum/Desktop/sdss_cutout.csv', skiprows=1, delimiter=',')\n",
    "from scipy.stats import norm\n"
   ]
  },
  {
   "cell_type": "code",
   "execution_count": 2,
   "id": "cca4e01a-bf6b-4b38-8958-618e1550d6ff",
   "metadata": {},
   "outputs": [],
   "source": [
    "r = data[:, 5]\n",
    "z = data[:, 2]\n",
    "u= data[:, 3]\n",
    "RA = data[:, 0]\n",
    "DEC = data[:, 1]\n",
    "\n",
    "r1 = (r<17.7)\n",
    "\n",
    "# putting cap\n",
    "z_1 = (z > 0.08) & (z < 0.12)\n",
    "z_mask = z_1[r1]\n",
    "\n",
    "# Color conditions\n",
    "blue_mask = (u - r <= 2.3)\n",
    "red_mask = (u - r > 2.3)\n",
    "\n",
    "\n",
    "# Filter RA and DEC for blue and red galaxies within the specified redshift range\n",
    "blue_ra = RA[blue_mask]\n",
    "blue_dec = DEC[blue_mask ]\n",
    "\n",
    "\n",
    "red_ra = RA[red_mask]\n",
    "red_dec = DEC[red_mask]\n",
    "\n",
    "\n",
    "\n",
    "\n"
   ]
  },
  {
   "cell_type": "code",
   "execution_count": 3,
   "id": "9c985ff0-e24c-440c-8131-a1d51c3e3cb6",
   "metadata": {},
   "outputs": [],
   "source": [
    "#random values for RR(red,red) and RR(blue,blue)\n",
    "N = 1000000\n",
    "\n",
    "ra_random = np.random.uniform(low=130, high=230, size=N)\n",
    "\n",
    "dec_random = np.random.uniform(low=5, high=65, size=N)"
   ]
  },
  {
   "cell_type": "code",
   "execution_count": 5,
   "id": "184b9267-a62c-42f7-bb12-2cb541b78db9",
   "metadata": {},
   "outputs": [],
   "source": [
    "# minimise dataset for getting results with good speed\n",
    "midpoint = data.shape[0] // 3\n",
    "first_half_blue_ra = blue_ra[:midpoint]\n",
    "first_half_blue_dec = blue_dec[:midpoint]"
   ]
  },
  {
   "cell_type": "code",
   "execution_count": 6,
   "id": "0a34aaba-f955-4000-b9c0-56a3fd0c49a4",
   "metadata": {},
   "outputs": [
    {
     "name": "stdout",
     "output_type": "stream",
     "text": [
      "DD(blue,blue) counts: [6.04744465e+08 5.82566335e+08 5.55431305e+08 5.20844935e+08\n",
      " 4.81802685e+08 4.44108925e+08 4.12536670e+08 3.81001725e+08\n",
      " 3.56219890e+08 3.41471780e+08 3.18726005e+08 2.98770485e+08\n",
      " 2.84760580e+08 2.65655195e+08 2.46230010e+08 2.28227935e+08\n",
      " 2.11355820e+08 1.92476960e+08 1.78690915e+08 1.71093000e+08\n",
      " 1.62812845e+08 1.58239705e+08 1.56422175e+08 1.51489260e+08\n",
      " 1.43177125e+08 1.30891475e+08 1.16159355e+08 1.00403875e+08\n",
      " 8.28282000e+07 1.00316996e+09]\n"
     ]
    }
   ],
   "source": [
    "#using numba \n",
    "@jit(nopython=True)  # Enable Numba jit compilation\n",
    "\n",
    "#function for calculation function omega\n",
    "def calculate_omega(theta1, phi1, theta2, phi2):\n",
    "  \"\"\"\n",
    "  Calculates the opening angle omega between two points on a sphere.\n",
    "\n",
    "  Args:\n",
    "      theta1 (float): Colatitude of the first point (radians).\n",
    "      phi1 (float): Longitude of the first point (radians).\n",
    "      theta2 (float): Colatitude of the second point (radians).\n",
    "      phi2 (float): Longitude of the second point (radians).\n",
    "\n",
    "  Returns:\n",
    "      float: The opening angle omega in radians.\n",
    "  \"\"\"\n",
    "  return np.arccos(np.cos(theta1) * np.cos(theta2) + np.cos(phi1 - phi2) * np.sin(theta1) * np.sin(theta2))\n",
    "\n",
    "\n",
    "\n",
    "\n",
    "# Convert to radians (for Blue galaxies)\n",
    "ra_radians = np.radians(first_half_blue_ra)\n",
    "dec_radians = np.radians(first_half_blue_dec)\n",
    "\n",
    "# Calculate spherical angles\n",
    "theta = (np.pi / 2) - dec_radians  # colatitude\n",
    "phi = ra_radians  # longitude\n",
    "\n",
    "# Define pre-defined bin edges \n",
    "omega_bins = np.arange(0.003, 0.31, 0.01)  \n",
    "\n",
    "\n",
    "# Calculate pairwise omega distances\n",
    "@jit(nopython=True)  # Enable Numba jit compilation\n",
    "def compute_omega_pairs(theta, phi, omega_bins):\n",
    "  dd_counts = np.zeros(len(omega_bins) - 1)\n",
    "  n = len(theta)\n",
    "  m = len(phi)  \n",
    "  for i in range(n):\n",
    "    for j in range(i + 1, n):\n",
    "        for k in range(m):\n",
    "            for l in range(k+1, m):\n",
    "              omega = calculate_omega(theta[i], phi[k], theta[i], phi[l])\n",
    "     \n",
    "              if omega < omega_bins[0]:\n",
    "                    continue  # Ignore values below the first bin edge\n",
    "              elif omega >= omega_bins[-1]:\n",
    "                   dd_counts[-1] += 1  # Increment the count for the last bin\n",
    "              else:\n",
    "        \n",
    "                    bin_idx = int((omega - omega_bins[0]) / (omega_bins[1] - omega_bins[0]))\n",
    "                    dd_counts[bin_idx] += 1\n",
    "    return dd_counts\n",
    "        \n",
    "# getting values for DD(blue,blue) where DD(blue,blue) defined as omega_pairs00\n",
    "omega_pairs00 = compute_omega_pairs(theta, phi, omega_bins)\n",
    "\n",
    "# Print DD(blue,blue) counts \n",
    "print(\"DD(blue,blue) counts:\", omega_pairs00)\n"
   ]
  },
  {
   "cell_type": "code",
   "execution_count": 7,
   "id": "bedc8fc8-d67f-49c7-bed2-d7dac306b2d0",
   "metadata": {},
   "outputs": [
    {
     "name": "stdout",
     "output_type": "stream",
     "text": [
      "RR counts: [9.02996100e+06 8.95104000e+06 8.81517600e+06 8.73525600e+06\n",
      " 8.74324800e+06 8.59539600e+06 8.46153000e+06 8.51747400e+06\n",
      " 8.47451700e+06 8.14185000e+06 8.26173000e+06 8.08790400e+06\n",
      " 7.99200000e+06 7.83915300e+06 8.13186000e+06 8.00998200e+06\n",
      " 7.98500700e+06 7.75623600e+06 7.62137100e+06 7.60338900e+06\n",
      " 7.48450800e+06 7.38860400e+06 7.48550700e+06 7.41557700e+06\n",
      " 7.11787500e+06 7.09689600e+06 6.97701600e+06 7.07691600e+06\n",
      " 6.82616700e+06 2.65697037e+08]\n"
     ]
    }
   ],
   "source": [
    "\n",
    "\n",
    "\n",
    "@jit(nopython=True)  # Enable Numba jit compilation\n",
    "def calculate_omega(theta1, phi1, theta2, phi2):\n",
    " \n",
    "  return np.arccos(np.cos(theta1) * np.cos(theta2) + np.cos(phi1 - phi2) * np.sin(theta1) * np.sin(theta2))\n",
    "\n",
    "\n",
    "\n",
    "\n",
    "# Convert to radians(for Blue galaxies)\n",
    "ra_radians = np.radians(ra_random)\n",
    "dec_radians = np.radians(dec_random)\n",
    "\n",
    "# Calculate spherical angles\n",
    "theta = (np.pi / 2) - dec_radians  # colatitude\n",
    "phi = ra_radians  # longitude\n",
    "\n",
    "\n",
    "omega_bins = np.arange(0.003, 0.31, 0.01)  \n",
    "\n",
    "\n",
    "# Calculate pairwise omega distances\n",
    "@jit(nopython=True)  # Enable Numba jit compilation\n",
    "def compute_omega_pairs(theta, phi, omega_bins):\n",
    "  dd_counts = np.zeros(len(omega_bins) - 1)\n",
    "  n = len(theta)\n",
    "  m = len(phi)\n",
    "  for i in range(n):\n",
    "    for j in range(i + 1, n):\n",
    "      for k in range(m):\n",
    "            for l in range(k+1, m):\n",
    "              omega = calculate_omega(theta[i], phi[k], theta[i], phi[l])\n",
    "    \n",
    "              if omega < omega_bins[0]:\n",
    "                    continue  \n",
    "              elif omega >= omega_bins[-1]:\n",
    "                   dd_counts[-1] += 1  # Increment the count for the last bin\n",
    "              else:\n",
    "\n",
    "                    bin_idx = int((omega - omega_bins[0]) / (omega_bins[1] - omega_bins[0]))\n",
    "                    dd_counts[bin_idx] += 1\n",
    "    return dd_counts\n",
    "\n",
    "# getting values for RR(blue,blue) where RR(blue,blue) defined as omega_pairs01\n",
    "omega_pairs01 = compute_omega_pairs(theta, phi, omega_bins)\n",
    "\n",
    "# Print RR counts \n",
    "print(\"RR counts:\", omega_pairs01)\n"
   ]
  },
  {
   "cell_type": "code",
   "execution_count": 8,
   "id": "63da602c-b62f-40b6-8f85-f265a40a7f34",
   "metadata": {},
   "outputs": [
    {
     "name": "stdout",
     "output_type": "stream",
     "text": [
      "DR(blue,blue) counts: [2.18532249e+08 2.10944844e+08 2.01377421e+08 1.90355454e+08\n",
      " 1.76014809e+08 1.63167669e+08 1.51680168e+08 1.40879979e+08\n",
      " 1.30769100e+08 1.25542332e+08 1.18786095e+08 1.10125764e+08\n",
      " 1.05572322e+08 9.93975030e+07 9.26562510e+07 8.60718420e+07\n",
      " 7.99729470e+07 7.43136120e+07 6.72946380e+07 6.38171190e+07\n",
      " 6.10648740e+07 5.81887530e+07 5.71378050e+07 5.62936500e+07\n",
      " 5.44055400e+07 5.15214270e+07 4.72057470e+07 4.20499080e+07\n",
      " 3.66822810e+07 4.10334255e+08]\n"
     ]
    }
   ],
   "source": [
    "\n",
    "\n",
    "\n",
    "@jit(nopython=True)  \n",
    "def calculate_omega(theta1, phi1, theta2, phi2):\n",
    "  \n",
    "  return np.arccos(np.cos(theta1) * np.cos(theta2) + np.cos(phi1 - phi2) * np.sin(theta1) * np.sin(theta2))\n",
    "\n",
    "\n",
    "\n",
    "\n",
    "# Convert to radians for Blue galaxies \n",
    "ra_radians = np.radians(first_half_blue_ra)\n",
    "dec_radians = np.radians(dec_random)\n",
    "\n",
    "# Calculate spherical angles\n",
    "theta = (np.pi / 2) - dec_radians  \n",
    "phi = ra_radians  \n",
    "\n",
    "\n",
    "omega_bins = np.arange(0.003, 0.31, 0.01)  \n",
    "\n",
    "\n",
    "\n",
    "@jit(nopython=True) \n",
    "def compute_omega_pairs(theta, phi, omega_bins):\n",
    "  dd_counts = np.zeros(len(omega_bins) - 1)\n",
    "  n = len(theta)\n",
    "  m = len(phi)\n",
    "  for i in range(n):\n",
    "    for j in range(i + 1, n):\n",
    "      for k in range(m):\n",
    "            for l in range(k+1, m):\n",
    "              omega = calculate_omega(theta[i], phi[k], theta[i], phi[l])\n",
    "      \n",
    "              if omega < omega_bins[0]:\n",
    "                    continue \n",
    "              elif omega >= omega_bins[-1]:\n",
    "                   dd_counts[-1] += 1  \n",
    "              else:\n",
    "       \n",
    "                    bin_idx = int((omega - omega_bins[0]) / (omega_bins[1] - omega_bins[0]))\n",
    "                    dd_counts[bin_idx] += 1\n",
    "    return dd_counts\n",
    "\n",
    "# getting values for DR(blue,blue) where DR(blue,blue) defined as omega_pairs02\n",
    "omega_pairs02 = compute_omega_pairs(theta, phi, omega_bins)\n",
    "\n",
    "\n",
    "print(\"DR(blue,blue) counts:\", omega_pairs02)\n"
   ]
  },
  {
   "cell_type": "code",
   "execution_count": 9,
   "id": "9e7b567c-e0ce-4e0e-8838-1fd65cf252e1",
   "metadata": {},
   "outputs": [
    {
     "name": "stdout",
     "output_type": "stream",
     "text": [
      "2PCF(blue,blue) (xi): [19.56929028 18.95061211 18.31972941 17.04234919 15.8426611  14.70193846\n",
      " 13.90267056 12.65154916 12.17251756 12.10154523 10.82285974 10.70819597\n",
      " 10.2112032   9.52900677  8.49121456  8.00179489  7.43830694  6.65348141\n",
      "  6.78657554  6.7157094   6.43564079  6.66577922  6.63042223  6.24597884\n",
      "  5.82813269  4.92405652  4.11707197  3.30383673  2.38637657  1.686878  ]\n"
     ]
    }
   ],
   "source": [
    "# correlation function value for (blue,blue)\n",
    "xi = (omega_pairs00/omega_pairs01) - 2*(omega_pairs02/omega_pairs01) + 1\n",
    "print(\"2PCF(blue,blue) (xi):\", xi)\n",
    "\n",
    "\n"
   ]
  },
  {
   "cell_type": "code",
   "execution_count": 10,
   "id": "a1ac9491-b8fe-408d-b0eb-fa345b38a3fc",
   "metadata": {},
   "outputs": [],
   "source": [
    "\n",
    "# minimise dataset for getting results with good speed\n",
    "midpoint = data.shape[0] // 3\n",
    "first_half_red_ra = red_ra[:midpoint]\n",
    "first_half_red_dec = red_dec[:midpoint]\n"
   ]
  },
  {
   "cell_type": "code",
   "execution_count": 11,
   "id": "c1a4de44-cd3a-4345-92d4-39c5f3a42b7f",
   "metadata": {},
   "outputs": [
    {
     "name": "stdout",
     "output_type": "stream",
     "text": [
      "DD(red,red) counts: [9.88094055e+08 9.24725685e+08 8.52131085e+08 7.83347435e+08\n",
      " 7.04532725e+08 6.15905485e+08 5.68122035e+08 5.10531385e+08\n",
      " 4.85328480e+08 4.50590205e+08 4.24305310e+08 3.86083880e+08\n",
      " 3.46671195e+08 3.06272460e+08 2.51994405e+08 2.03443435e+08\n",
      " 1.44317745e+08 9.48793300e+07 5.16823450e+07 3.02823950e+07\n",
      " 1.93585600e+07 8.88777500e+06 4.18138500e+06 6.47595000e+05\n",
      " 0.00000000e+00 0.00000000e+00 0.00000000e+00 0.00000000e+00\n",
      " 0.00000000e+00 0.00000000e+00]\n"
     ]
    }
   ],
   "source": [
    "\n",
    "\n",
    "\n",
    "@jit(nopython=True)  \n",
    "def calculate_omega(theta1, phi1, theta2, phi2):\n",
    " \n",
    "  return np.arccos(np.cos(theta1) * np.cos(theta2) + np.cos(phi1 - phi2) * np.sin(theta1) * np.sin(theta2))\n",
    "\n",
    "\n",
    "# Convert to radians for red galaxies\n",
    "ra_radians = np.radians(first_half_red_ra)\n",
    "dec_radians = np.radians(first_half_red_dec)\n",
    "\n",
    "\n",
    "theta = (np.pi / 2) - dec_radians  # colatitude\n",
    "phi = ra_radians  # longitude\n",
    "\n",
    "\n",
    "omega_bins = np.arange(0.003, 0.31, 0.01) \n",
    "\n",
    "\n",
    "\n",
    "@jit(nopython=True) \n",
    "def compute_omega_pairs(theta, phi, omega_bins):\n",
    "  dd_counts = np.zeros(len(omega_bins) - 1)\n",
    "  n = len(theta)\n",
    "  m = len(phi)\n",
    "  for i in range(n):\n",
    "    for j in range(i + 1, n):\n",
    "      for k in range(m):\n",
    "            for l in range(k+1, m):\n",
    "              omega = calculate_omega(theta[i], phi[k], theta[i], phi[l])\n",
    "     \n",
    "              if omega < omega_bins[0]:\n",
    "                    continue \n",
    "              elif omega >= omega_bins[-1]:\n",
    "                   dd_counts[-1] += 1 \n",
    "              else:\n",
    "       \n",
    "                    bin_idx = int((omega - omega_bins[0]) / (omega_bins[1] - omega_bins[0]))\n",
    "                    dd_counts[bin_idx] += 1\n",
    "    return dd_counts\n",
    "\n",
    "# getting values for DD(red,red) where DD(red,red) defined as omega_pairs10\n",
    "omega_pairs10 = compute_omega_pairs(theta, phi, omega_bins)\n",
    "\n",
    "\n",
    "print(\"DD(red,red) counts:\", omega_pairs10)\n"
   ]
  },
  {
   "cell_type": "code",
   "execution_count": 12,
   "id": "c0b32334-4c01-448c-b058-9c704d341fbf",
   "metadata": {},
   "outputs": [
    {
     "name": "stdout",
     "output_type": "stream",
     "text": [
      "DR(red,red) counts: [3.61190448e+08 3.38593068e+08 3.13202484e+08 2.87999712e+08\n",
      " 2.61895842e+08 2.28534237e+08 2.10469320e+08 1.90250559e+08\n",
      " 1.79015805e+08 1.67293539e+08 1.57906935e+08 1.45530324e+08\n",
      " 1.30844025e+08 1.18230651e+08 9.94544460e+07 8.20538640e+07\n",
      " 6.21218160e+07 4.28610960e+07 2.59460280e+07 1.40469390e+07\n",
      " 9.22077000e+06 5.24874600e+06 2.40759000e+06 9.93006000e+05\n",
      " 2.39760000e+04 0.00000000e+00 0.00000000e+00 0.00000000e+00\n",
      " 0.00000000e+00 0.00000000e+00]\n"
     ]
    }
   ],
   "source": [
    "\n",
    "\n",
    "\n",
    "@jit(nopython=True)  \n",
    "def calculate_omega(theta1, phi1, theta2, phi2):\n",
    " \n",
    "  return np.arccos(np.cos(theta1) * np.cos(theta2) + np.cos(phi1 - phi2) * np.sin(theta1) * np.sin(theta2))\n",
    "\n",
    "\n",
    "# Convert to radians for red galaxies\n",
    "ra_radians = np.radians(first_half_red_ra)\n",
    "dec_radians = np.radians(dec_random)\n",
    "\n",
    "# Calculate spherical angles\n",
    "theta = (np.pi / 2) - dec_radians  # colatitude\n",
    "phi = ra_radians  # longitude\n",
    "\n",
    "\n",
    "omega_bins = np.arange(0.003, 0.31, 0.01)  \n",
    "\n",
    "\n",
    "\n",
    "@jit(nopython=True)  \n",
    "def compute_omega_pairs(theta, phi, omega_bins):\n",
    "  dd_counts = np.zeros(len(omega_bins) - 1)\n",
    "  n = len(theta)\n",
    "  m = len(phi)\n",
    "  for i in range(n):\n",
    "    for j in range(i + 1, n):\n",
    "      for k in range(m):\n",
    "            for l in range(k+1, m):\n",
    "              omega = calculate_omega(theta[i], phi[k], theta[i], phi[l])\n",
    "     \n",
    "              if omega < omega_bins[0]:\n",
    "                    continue  \n",
    "              elif omega >= omega_bins[-1]:\n",
    "                   dd_counts[-1] += 1 \n",
    "              else:\n",
    "       \n",
    "                    bin_idx = int((omega - omega_bins[0]) / (omega_bins[1] - omega_bins[0]))\n",
    "                    dd_counts[bin_idx] += 1\n",
    "    return dd_counts\n",
    "      \n",
    "# getting values for DR(red,red) where DR(red,red) defined as omega_pairs11\n",
    "omega_pairs11 = compute_omega_pairs(theta, phi, omega_bins)\n",
    "\n",
    "\n",
    "print(\"DR(red,red) counts:\", omega_pairs11)\n"
   ]
  },
  {
   "cell_type": "code",
   "execution_count": 13,
   "id": "7c331ea1-b17a-4b66-aa29-cbc3c9eb8801",
   "metadata": {},
   "outputs": [
    {
     "name": "stdout",
     "output_type": "stream",
     "text": [
      "2PCF(red,red) (xt): [30.42572609 28.65483664 26.60653548 24.73691292 21.67207072 19.47931276\n",
      " 18.39441862 16.26629456 16.02113572 15.24776028 14.13180653 12.7488081\n",
      " 11.63352665  9.90544655  7.52808988  5.91083588  3.51397563  2.18061622\n",
      "  0.97248382  1.28783441  1.12252242  0.78213516  0.91533038  0.81951276\n",
      "  0.99326316  1.          1.          1.          1.          1.        ]\n"
     ]
    }
   ],
   "source": [
    "# correlation function value for (red,red)\n",
    "xt = (omega_pairs10/omega_pairs01) - 2*(omega_pairs11/omega_pairs01) + 1\n",
    "print(\"2PCF(red,red) (xt):\", xt)"
   ]
  },
  {
   "cell_type": "code",
   "execution_count": 14,
   "id": "ec836ade-1602-4830-8fa7-a5028526645d",
   "metadata": {},
   "outputs": [
    {
     "data": {
      "image/png": "[encoded data removed]",
      "text/plain": [
       "<Figure size 1000x600 with 1 Axes>"
      ]
     },
     "metadata": {},
     "output_type": "display_data"
    }
   ],
   "source": [
    "# Plotting\n",
    "plt.figure(figsize=(10, 6))\n",
    "bins = np.arange(len(xi))\n",
    "\n",
    "# Plot the correlation function for blue galaxies\n",
    "plt.loglog(bins, xi, label='Blue Galaxies', color='blue', marker='o')\n",
    "\n",
    "# Plot the correlation function for red galaxies\n",
    "plt.loglog(bins, xt, label='Red Galaxies', color='red', marker='x')\n",
    "\n",
    "# Adding plot title and labels\n",
    "plt.title('Correlation Function of Galaxies')\n",
    "plt.xlabel('Separation (log scale')\n",
    "plt.ylabel('Correlation Function (log scale)')\n",
    "\n",
    "plt.legend()\n",
    "\n",
    "plt.show()"
   ]
  },
  {
   "cell_type": "code",
   "execution_count": null,
   "id": "7bed04d4-1a04-4e48-b06e-438f8e7bcd9c",
   "metadata": {},
   "outputs": [],
   "source": [
    "''' Observations:\n",
    "\n",
    "Intersection Point: The correlation functions for red and blue galaxies intersect at a certain angle\n",
    "θ, which implies that at this particular scale, they have the same clustering strength.\n",
    "\n",
    "Divergence Beyond Intersection: Beyond the intersection angle,\n",
    "the correlation function for red galaxies decreases sharply compared to blue galaxies. \n",
    "This sharp decrease suggests that red galaxies are less clustered or that their clustering strength diminishes rapidly at larger angular scales.\n",
    "\n",
    "Consistency in Blue Galaxies: The correlation function for blue galaxies decreases more gradually, \n",
    "indicating a more consistent clustering over the range of scales shown."
   ]
  },
  {
   "cell_type": "code",
   "execution_count": null,
   "id": "696f9446-aa52-416e-b23b-2a5a50476f45",
   "metadata": {},
   "outputs": [],
   "source": [
    "''' the correlation functions of red and blue galaxies intersecting and then the red galaxies' function decreasing sharply,\n",
    "is consistent with general findings in astronomy. Blue galaxies, \n",
    "being less clustered, tend to have a correlation function that doesn't drop off as quickly as that of red galaxies.\n",
    "When the functions intersect, and the red's decline sharply, it indicates that at larger scales, red galaxies are much less common than blue ones, which aligns with the understanding that blue galaxies are more uniformly distributed."
   ]
  },
  {
   "cell_type": "markdown",
   "id": "0e4f6d9a",
   "metadata": {},
   "source": [
    "''' For RED RED'''"
   ]
  },
  {
   "cell_type": "code",
   "execution_count": 2,
   "id": "c85577da",
   "metadata": {},
   "outputs": [
    {
     "name": "stdout",
     "output_type": "stream",
     "text": [
      "Mean Correlation Coefficient (r): 0.5\n",
      "Standard Error (SE): 0.19245008972987526\n",
      "95% Confidence Interval: (0.17043136511180015, 0.7289585563883555)\n"
     ]
    }
   ],
   "source": [
    "\n",
    "\n",
    "\n",
    "import numpy as np\n",
    "from scipy.stats import norm\n",
    "\n",
    "\n",
    "r = xt\n",
    "n = len(xt)\n",
    "\n",
    "def fishers_z_transform(r, n, confidence_level=0.95):\n",
    "    # Transform the correlation coefficient to Fisher's Z\n",
    "    z = np.arctanh(r)\n",
    "    # Calculate the standard error of Z\n",
    "    se_z = 1 / np.sqrt(n - 3)\n",
    "    # Determine the critical Z-value for the specified confidence level\n",
    "    z_critical = norm.ppf(1 - (1 - confidence_level) / 2)\n",
    "    # Calculate the confidence interval in the Z domain\n",
    "    ci_lower_z, ci_upper_z = z - z_critical * se_z, z + z_critical * se_z\n",
    "    # Convert the confidence interval back to the correlation coefficient scale\n",
    "    ci_lower, ci_upper = np.tanh(ci_lower_z), np.tanh(ci_upper_z)\n",
    "    return ci_lower, ci_upper, se_z\n",
    "\n",
    "# Example correlation coefficient and sample size\n",
    "r = xt\n",
    "n = len(xt)\n",
    "\n",
    "# Calculate the confidence interval and standard error\n",
    "ci_lower, ci_upper, se = fishers_z_transform(r, n)\n",
    "\n",
    "print(f\"Mean Correlation Coefficient (r): {r}\")\n",
    "print(f\"Standard Error (SE): {se}\")\n",
    "print(f\"95% Confidence Interval: ({ci_lower}, {ci_upper})\")\n"
   ]
  },
  {
   "cell_type": "markdown",
   "id": "3f4ea1c5",
   "metadata": {},
   "source": [
    "'''For Blue, Blue'''"
   ]
  },
  {
   "cell_type": "code",
   "execution_count": 3,
   "id": "a9f37548",
   "metadata": {},
   "outputs": [
    {
     "name": "stdout",
     "output_type": "stream",
     "text": [
      "Mean Correlation Coefficient (r): 0.5\n",
      "Standard Error (SE): 0.19245008972987526\n",
      "95% Confidence Interval: (0.17043136511180015, 0.7289585563883555)\n"
     ]
    }
   ],
   "source": [
    "\n",
    "\n",
    "import numpy as np\n",
    "from scipy.stats import norm\n",
    "\n",
    "r = xi\n",
    "n = len(xi)\n",
    "\n",
    "def fishers_z_transform(r, n, confidence_level=0.95):\n",
    "    # Transform the correlation coefficient to Fisher's Z\n",
    "    z = np.arctanh(r)\n",
    "    # Calculate the standard error of Z\n",
    "    se_z = 1 / np.sqrt(n - 3)\n",
    "    # Determine the critical Z-value for the specified confidence level\n",
    "    z_critical = norm.ppf(1 - (1 - confidence_level) / 2)\n",
    "    # Calculate the confidence interval in the Z domain\n",
    "    ci_lower_z, ci_upper_z = z - z_critical * se_z, z + z_critical * se_z\n",
    "    # Convert the confidence interval back to the correlation coefficient scale\n",
    "    ci_lower, ci_upper = np.tanh(ci_lower_z), np.tanh(ci_upper_z)\n",
    "    return ci_lower, ci_upper, se_z\n",
    "\n",
    "# Example correlation coefficient and sample size\n",
    "r = xi\n",
    "n = len(xi)\n",
    "\n",
    "# Calculate the confidence interval and standard error\n",
    "ci_lower, ci_upper, se = fishers_z_transform(r, n)\n",
    "\n",
    "print(f\"Mean Correlation Coefficient (r): {r}\")\n",
    "print(f\"Standard Error (SE): {se}\")\n",
    "print(f\"95% Confidence Interval: ({ci_lower}, {ci_upper})\")\n"
   ]
  }
 ],
 "metadata": {
  "kernelspec": {
   "display_name": "Python 3",
   "language": "python",
   "name": "python3"
  },
  "language_info": {
   "codemirror_mode": {
    "name": "ipython",
    "version": 3
   },
   "file_extension": ".py",
   "mimetype": "text/x-python",
   "name": "python",
   "nbconvert_exporter": "python",
   "pygments_lexer": "ipython3",
   "version": "3.11.4"
  }
 },
 "nbformat": 4,
 "nbformat_minor": 5
}
